{
 "cells": [
  {
   "cell_type": "markdown",
   "metadata": {
    "slideshow": {
     "slide_type": "slide"
    }
   },
   "source": [
    "<h1>Astropy 5.X: astronomical tools for everybody</h1>\n",
    "\n",
    "<img src=\"https://www.astropy.org/images/astropy_project_logo.svg\" width=\"500px\" align=\"left\"/>\n"
   ]
  },
  {
   "cell_type": "markdown",
   "metadata": {
    "slideshow": {
     "slide_type": "slide"
    }
   },
   "source": [
    "# What is Astropy\n",
    "\n",
    "* The Astropy Project (https://www.astropy.org/) aims to enable the community to develop a robust ecosystem for:\n",
    "  + Astronomical research.\n",
    "  + Data processing.\n",
    "  + Data analysis.\n",
    "* Over 50 coordinated and affiliated packages\n",
    "* The `astropy` core package contains key functionality and common tools needed for performing astronomy and astrophysics with Python. \n",
    "* Over 34k commits and 3400 stars on Github.\n",
    "* Latest stable version: 5.1.1. \n",
    "* **Useful for other purposes too**."
   ]
  },
  {
   "cell_type": "markdown",
   "metadata": {
    "slideshow": {
     "slide_type": "slide"
    }
   },
   "source": [
    "# Units\n",
    "\n",
    "Provide units to scalars and Numpy arrays:"
   ]
  },
  {
   "cell_type": "code",
   "execution_count": 1,
   "metadata": {
    "slideshow": {
     "slide_type": "fragment"
    }
   },
   "outputs": [
    {
     "data": {
      "text/latex": [
       "$42 \\; \\mathrm{m}$"
      ],
      "text/plain": [
       "<Quantity 42. m>"
      ]
     },
     "execution_count": 1,
     "metadata": {},
     "output_type": "execute_result"
    }
   ],
   "source": [
    "from astropy import units as u\n",
    "\n",
    "42.0 * u.meter"
   ]
  },
  {
   "cell_type": "code",
   "execution_count": 2,
   "metadata": {
    "slideshow": {
     "slide_type": "fragment"
    }
   },
   "outputs": [
    {
     "data": {
      "text/latex": [
       "$[1,~2,~3] \\; \\mathrm{m}$"
      ],
      "text/plain": [
       "<Quantity [1., 2., 3.] m>"
      ]
     },
     "execution_count": 2,
     "metadata": {},
     "output_type": "execute_result"
    }
   ],
   "source": [
    "import numpy as np\n",
    "np.array([1., 2., 3.]) * u.m  "
   ]
  },
  {
   "cell_type": "markdown",
   "metadata": {
    "slideshow": {
     "slide_type": "slide"
    }
   },
   "source": [
    "# Units\n",
    "\n",
    "Conversions made easy:"
   ]
  },
  {
   "cell_type": "code",
   "execution_count": 3,
   "metadata": {
    "slideshow": {
     "slide_type": "fragment"
    }
   },
   "outputs": [
    {
     "data": {
      "text/latex": [
       "$22369.363 \\; \\mathrm{\\frac{mi}{h}}$"
      ],
      "text/plain": [
       "<Quantity 22369.36292054 mi / h>"
      ]
     },
     "execution_count": 3,
     "metadata": {},
     "output_type": "execute_result"
    }
   ],
   "source": [
    "from astropy.units import imperial\n",
    "\n",
    "kms = u.km / u.s\n",
    "mph = imperial.mile / u.hour\n",
    "\n",
    "q = 10.0 * kms\n",
    "q.to(mph)"
   ]
  },
  {
   "cell_type": "code",
   "execution_count": 4,
   "metadata": {
    "slideshow": {
     "slide_type": "fragment"
    }
   },
   "outputs": [
    {
     "data": {
      "text/latex": [
       "$9.4607305 \\times 10^{12} \\; \\mathrm{km}$"
      ],
      "text/plain": [
       "<Quantity 9.46073047e+12 km>"
      ]
     },
     "execution_count": 4,
     "metadata": {},
     "output_type": "execute_result"
    }
   ],
   "source": [
    "ly = 1 * u.lightyear\n",
    "ly.to(u.km)"
   ]
  },
  {
   "cell_type": "code",
   "execution_count": 5,
   "metadata": {
    "slideshow": {
     "slide_type": "fragment"
    }
   },
   "outputs": [
    {
     "data": {
      "text/latex": [
       "$2.9979246 \\; \\mathrm{m}$"
      ],
      "text/plain": [
       "<Quantity 2.99792458 m>"
      ]
     },
     "execution_count": 5,
     "metadata": {},
     "output_type": "execute_result"
    }
   ],
   "source": [
    "radio_fm = 100 * u.MHz\n",
    "radio_fm.to(u.meter, equivalencies=u.spectral())  "
   ]
  },
  {
   "cell_type": "code",
   "execution_count": 6,
   "metadata": {
    "slideshow": {
     "slide_type": "skip"
    }
   },
   "outputs": [
    {
     "name": "stdout",
     "output_type": "stream",
     "text": [
      "Gravitational constant: 6.6743e-11 m3 / (kg s2)\n",
      "Nominal Earth mass parameter: 398600400000000.0 m3 / s2\n",
      "Nominal Jupiter mass parameter: 1.2668653e+17 m3 / s2\n",
      "Nominal solar mass parameter: 1.3271244e+20 m3 / s2\n",
      "Luminosity for absolute bolometric magnitude 0: 3.0128e+28 W\n",
      "Nominal solar luminosity: 3.828e+26 W\n",
      "Earth mass: 5.972167867791379e+24 kg\n",
      "Jupiter mass: 1.8981245973360505e+27 kg\n",
      "Solar mass: 1.988409870698051e+30 kg\n",
      "Avogadro's number: 6.02214076e+23 1 / mol\n",
      "Gas constant: 8.31446261815324 J / (K mol)\n",
      "Nominal Earth equatorial radius: 6378100.0 m\n",
      "Nominal Jupiter equatorial radius: 71492000.0 m\n",
      "Nominal solar radius: 695700000.0 m\n",
      "Rydberg constant: 10973731.56816 1 / m\n",
      "Bohr radius: 5.29177210903e-11 m\n",
      "Fine-structure constant: 0.0072973525693\n",
      "Standard atmosphere: 101325 Pa\n",
      "Astronomical Unit: 149597870700.0 m\n",
      "Wien wavelength displacement law constant: 0.0028977719551851727 K m\n",
      "Speed of light in vacuum: 299792458.0 m / s\n",
      "Vacuum electric permittivity: 8.8541878128e-12 F / m\n",
      "Standard acceleration of gravity: 9.80665 m / s2\n",
      "Planck constant: 6.62607015e-34 J s\n",
      "Reduced Planck constant: 1.0545718176461565e-34 J s\n",
      "Boltzmann constant: 1.380649e-23 J / K\n",
      "Kiloparsec: 3.0856775814913675e+19 m\n",
      "Electron mass: 9.1093837015e-31 kg\n",
      "Neutron mass: 1.67492749804e-27 kg\n",
      "Proton mass: 1.67262192369e-27 kg\n",
      "Vacuum magnetic permeability: 1.25663706212e-06 N / A2\n",
      "Bohr magneton: 9.2740100783e-24 J / T\n",
      "Parsec: 3.085677581491367e+16 m\n",
      "Thomson scattering cross-section: 6.6524587321e-29 m2\n",
      "Stefan-Boltzmann constant: 5.6703744191844314e-08 W / (K4 m2)\n",
      "Atomic mass: 1.6605390666e-27 kg\n"
     ]
    }
   ],
   "source": [
    "import astropy.constants as cons\n",
    "\n",
    "for var_str in dir(cons):\n",
    "    var = getattr(cons, var_str)\n",
    "    if isinstance(var, cons.Constant):\n",
    "        try:\n",
    "            print(f\"{var.name}: {var}\")\n",
    "        except TypeError:\n",
    "            pass"
   ]
  },
  {
   "cell_type": "markdown",
   "metadata": {
    "slideshow": {
     "slide_type": "slide"
    }
   },
   "source": [
    "# Dates and times\n",
    "\n",
    "Robust date and time operation:"
   ]
  },
  {
   "cell_type": "code",
   "execution_count": 7,
   "metadata": {
    "slideshow": {
     "slide_type": "fragment"
    }
   },
   "outputs": [
    {
     "data": {
      "text/plain": [
       "<Time object: scale='utc' format='iso' value=2016-12-31 23:59:60.000>"
      ]
     },
     "execution_count": 7,
     "metadata": {},
     "output_type": "execute_result"
    }
   ],
   "source": [
    "from astropy.time import Time\n",
    "\n",
    "# Beware of leap seconds!\n",
    "\n",
    "Time(\"2016-12-31 23:59:60\")"
   ]
  },
  {
   "cell_type": "code",
   "execution_count": 8,
   "metadata": {
    "slideshow": {
     "slide_type": "fragment"
    }
   },
   "outputs": [
    {
     "name": "stderr",
     "output_type": "stream",
     "text": [
      "/Library/Frameworks/Python.framework/Versions/3.7/lib/python3.7/site-packages/erfa/core.py:155: ErfaWarning: ERFA function \"dtf2d\" yielded 1 of \"time is after end of day (Note 5)\"\n",
      "  ErfaWarning)\n"
     ]
    },
    {
     "data": {
      "text/plain": [
       "<Time object: scale='utc' format='iso' value=2018-01-01 00:00:00.000>"
      ]
     },
     "execution_count": 8,
     "metadata": {},
     "output_type": "execute_result"
    }
   ],
   "source": [
    "Time(\"2017-12-31 23:59:60\")\n"
   ]
  },
  {
   "cell_type": "markdown",
   "metadata": {
    "slideshow": {
     "slide_type": "slide"
    }
   },
   "source": [
    "# Dates and times\n",
    "\n",
    "Fully compatible with `datetime`:"
   ]
  },
  {
   "cell_type": "code",
   "execution_count": 9,
   "metadata": {
    "slideshow": {
     "slide_type": "fragment"
    }
   },
   "outputs": [
    {
     "name": "stdout",
     "output_type": "stream",
     "text": [
      "2022-11-26 15:30:00\n",
      "2022-11-26 15:30:00\n"
     ]
    }
   ],
   "source": [
    "from datetime import datetime\n",
    "\n",
    "from_datetime = Time(datetime(2022, 11, 26, 15, 30))\n",
    "to_datetime = from_datetime.to_datetime()\n",
    "\n",
    "print(from_datetime)\n",
    "print(to_datetime)"
   ]
  },
  {
   "cell_type": "markdown",
   "metadata": {
    "slideshow": {
     "slide_type": "slide"
    }
   },
   "source": [
    "# Many other tools\n",
    "\n",
    "* Physical constants with units.\n",
    "* Tabular operations and manipulation, fully compatible with Pandas.\n",
    "* Time series.\n",
    "* Coordinates: geocentric, baricentric, heliocentric, ...\n",
    "* Model fitting: box fitting, gaussian fitting, ...\n",
    "* Read/write formats: CSV, HTML, LaTeX tables, FITS, HDF5, YAML, ASDF, ...\n",
    "* Simple progress bar.\n",
    "* Image (Numpy array) visualization.\n",
    "\n",
    "<img src=\"https://docs.astropy.org/en/stable/_images/index-2.png\" width=\"300px\" align=\"left\"/>"
   ]
  },
  {
   "cell_type": "code",
   "execution_count": 10,
   "metadata": {
    "slideshow": {
     "slide_type": "skip"
    }
   },
   "outputs": [
    {
     "data": {
      "application/vnd.jupyter.widget-view+json": {
       "model_id": "baa71fc2f70146eab199b1a01d619ae1",
       "version_major": 2,
       "version_minor": 0
      },
      "text/plain": [
       "FloatProgress(value=0.0)"
      ]
     },
     "metadata": {},
     "output_type": "display_data"
    },
    {
     "name": "stdout",
     "output_type": "stream",
     "text": [
      "\n"
     ]
    }
   ],
   "source": [
    "from astropy.utils.console import ProgressBar\n",
    "\n",
    "for elem in ProgressBar(range(100), ipython_widget=True):\n",
    "    pass"
   ]
  },
  {
   "cell_type": "markdown",
   "metadata": {
    "editable": true,
    "slideshow": {
     "slide_type": "skip"
    },
    "tags": []
   },
   "source": [
    "# Find me\n",
    "\n",
    "* Over 10 years developing software in Python.\n",
    "* Senior Engineer for Space Traffic Management at GMV.\n",
    "* https://supportastronomer.net\n",
    "\n",
    "\n",
    "## WE ARE HIRING!\n",
    "\n",
    "<img src=\"https://www.gmv.com/themes/gmv/images/logo.svg\" width=\"200px\" align=\"left\"/>\n",
    "\n"
   ]
  }
 ],
 "metadata": {
  "celltoolbar": "Slideshow",
  "kernelspec": {
   "display_name": "Python 3",
   "language": "python",
   "name": "python3"
  },
  "language_info": {
   "codemirror_mode": {
    "name": "ipython",
    "version": 3
   },
   "file_extension": ".py",
   "mimetype": "text/x-python",
   "name": "python",
   "nbconvert_exporter": "python",
   "pygments_lexer": "ipython3",
   "version": "3.12.1"
  }
 },
 "nbformat": 4,
 "nbformat_minor": 4
}
